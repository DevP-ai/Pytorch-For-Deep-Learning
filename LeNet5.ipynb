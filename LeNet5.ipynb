{
  "nbformat": 4,
  "nbformat_minor": 0,
  "metadata": {
    "colab": {
      "provenance": [],
      "authorship_tag": "ABX9TyPGepCvs6SOQpxUipl3afnx",
      "include_colab_link": true
    },
    "kernelspec": {
      "name": "python3",
      "display_name": "Python 3"
    },
    "language_info": {
      "name": "python"
    }
  },
  "cells": [
    {
      "cell_type": "markdown",
      "metadata": {
        "id": "view-in-github",
        "colab_type": "text"
      },
      "source": [
        "<a href=\"https://colab.research.google.com/github/DevP-ai/Pytorch-For-Deep-Learning/blob/main/LeNet5.ipynb\" target=\"_parent\"><img src=\"https://colab.research.google.com/assets/colab-badge.svg\" alt=\"Open In Colab\"/></a>"
      ]
    },
    {
      "cell_type": "markdown",
      "source": [
        "Importing the Libraries"
      ],
      "metadata": {
        "id": "n6p6fgjd4C5o"
      }
    },
    {
      "cell_type": "code",
      "execution_count": 39,
      "metadata": {
        "id": "m9ZiXU9V39EJ"
      },
      "outputs": [],
      "source": [
        "import torch\n",
        "import torch.nn as nn\n",
        "import torchvision\n",
        "import torchvision.transforms as transforms"
      ]
    },
    {
      "cell_type": "code",
      "source": [
        "#Define relevant variables for the ML task\n",
        "batch_size=64\n",
        "num_classes=10\n",
        "learning_rate=0.001\n",
        "num_epochs=10"
      ],
      "metadata": {
        "id": "diU3XwDG4dYn"
      },
      "execution_count": 40,
      "outputs": []
    },
    {
      "cell_type": "code",
      "source": [
        "#Device will determine whether to run the training on GPU or CPU\n",
        "device=torch.device(\"cuda\" if torch.cuda.is_available() else \"cpu\")\n",
        "device"
      ],
      "metadata": {
        "colab": {
          "base_uri": "https://localhost:8080/"
        },
        "id": "ctrH2iD54x3X",
        "outputId": "b1a72928-e38c-4381-a7a6-57856a9d8488"
      },
      "execution_count": 41,
      "outputs": [
        {
          "output_type": "execute_result",
          "data": {
            "text/plain": [
              "device(type='cpu')"
            ]
          },
          "metadata": {},
          "execution_count": 41
        }
      ]
    },
    {
      "cell_type": "markdown",
      "source": [
        "**Loading Dataset**"
      ],
      "metadata": {
        "id": "oR2V9wf95Hmi"
      }
    },
    {
      "cell_type": "code",
      "source": [
        "train_dataset=torchvision.datasets.MNIST(root='./data',\n",
        "                                         train=True,\n",
        "                                         transform=transforms.Compose([\n",
        "                                            transforms.Resize((32,32)),\n",
        "                                            transforms.ToTensor(),\n",
        "                                            transforms.Normalize(\n",
        "                                                mean=(0.1307,),\n",
        "                                                std=(0.3081,)\n",
        "                                                )]), download=True)\n",
        "\n",
        "\n",
        "test_dataset=torchvision.datasets.MNIST(root='./data',\n",
        "                                         train=False,\n",
        "                                         transform=transforms.Compose([\n",
        "                                            transforms.Resize((32,32)),\n",
        "                                            transforms.ToTensor(),\n",
        "                                            transforms.Normalize(\n",
        "                                                mean=(0.1325,),\n",
        "                                                std=(0.3105,)\n",
        "                                                )]), download=True)\n",
        "\n",
        "train_loader=torch.utils.data.DataLoader(dataset=train_dataset,\n",
        "                                         batch_size=batch_size,\n",
        "                                         shuffle=True)\n",
        "\n",
        "test_loader=torch.utils.data.DataLoader(dataset=test_dataset,\n",
        "                                         batch_size=batch_size,\n",
        "                                         shuffle=True)"
      ],
      "metadata": {
        "id": "t1v8S8mJ5DNX"
      },
      "execution_count": 42,
      "outputs": []
    },
    {
      "cell_type": "markdown",
      "source": [
        "**LeNet5 from Scratch**"
      ],
      "metadata": {
        "id": "9pi3wd4P7at8"
      }
    },
    {
      "cell_type": "code",
      "source": [
        "# #Define Convolutional neural network\n",
        "# class LeNet5(nn.Module):\n",
        "#   def __init__(self,num_classes):\n",
        "#     super(LeNet5,self).__init__()\n",
        "#     self.layer1=nn.Sequential(\n",
        "#         nn.Conv2d(1,6,kernel_size=5,stride=1,padding=0),\n",
        "#         nn.BatchNorm2d(6),\n",
        "#         nn.ReLU(),\n",
        "#         nn.MaxPool2d(kernel_size=2,stride=2)\n",
        "#     )\n",
        "\n",
        "#     self.layer2=nn.Sequential(\n",
        "#         nn.Conv2d(6,16,kernel_size=5,stride=2,padding=0),\n",
        "#         nn.BatchNorm2d(16),\n",
        "#         nn.ReLU(),\n",
        "#         nn.MaxPool2d(kernel_size=2,stride=2)\n",
        "#     )\n",
        "\n",
        "#     self.fc=nn.Linear(16*5*5,120)\n",
        "#     self.relu=nn.ReLU()\n",
        "#     self.fc1=nn.Linear(120,84)\n",
        "#     self.relu1=nn.ReLU()\n",
        "#     self.fc2=nn.Linear(84,num_classes)\n",
        "\n",
        "#   def forward(self,x):\n",
        "#     out=self.layer1(x)\n",
        "#     out=self.layer2(out)\n",
        "#     out=out.reshape(out.size(0),-1)\n",
        "#     out=self.fc(out)\n",
        "#     out=self.relu(out)\n",
        "#     out=self.fc1(out)\n",
        "#     out=self.relu1(out)\n",
        "#     out=self.fc2(out)\n",
        "#     return out"
      ],
      "metadata": {
        "id": "zWKBbURO6HLU"
      },
      "execution_count": 43,
      "outputs": []
    },
    {
      "cell_type": "code",
      "source": [
        "class LeNet5(nn.Module):\n",
        "  def __init__(self, num_classes):\n",
        "    super(LeNet5, self).__init__()\n",
        "    self.layer1 = nn.Sequential(\n",
        "        nn.Conv2d(1, 6, kernel_size=5, stride=1, padding=0),\n",
        "        nn.BatchNorm2d(6),\n",
        "        nn.ReLU(),\n",
        "        nn.MaxPool2d(kernel_size=2, stride=2)\n",
        "    )\n",
        "    self.layer2 = nn.Sequential(\n",
        "        nn.Conv2d(6, 16, kernel_size=5, stride=1, padding=0),\n",
        "        nn.BatchNorm2d(16),\n",
        "        nn.ReLU(),\n",
        "        nn.MaxPool2d(kernel_size=2, stride=2)\n",
        "    )\n",
        "    self.fc1 = nn.Linear(16 * 5 * 5, 120)\n",
        "    self.relu1 = nn.ReLU()\n",
        "    self.fc2 = nn.Linear(120, 84)\n",
        "    self.relu2 = nn.ReLU()\n",
        "    self.fc3 = nn.Linear(84, num_classes)\n",
        "\n",
        "  def forward(self, x):\n",
        "    out = self.layer1(x)\n",
        "    out = self.layer2(out)\n",
        "    out = out.view(out.size(0), -1)\n",
        "    out = self.fc1(out)\n",
        "    out = self.relu1(out)\n",
        "    out = self.fc2(out)\n",
        "    out = self.relu2(out)\n",
        "    out = self.fc3(out)\n",
        "    return out\n"
      ],
      "metadata": {
        "id": "sKmV8I16EC7i"
      },
      "execution_count": 47,
      "outputs": []
    },
    {
      "cell_type": "markdown",
      "source": [
        "## Setting Hyperparameters"
      ],
      "metadata": {
        "id": "9Jl9tsIo-1l2"
      }
    },
    {
      "cell_type": "code",
      "source": [
        "model=LeNet5(num_classes).to(device)\n",
        "\n",
        "#Setting the loss function\n",
        "cost=nn.CrossEntropyLoss()\n",
        "\n",
        "#Setting the optimizer with the model parameters and learning rate\n",
        "\n",
        "optimizer=torch.optim.Adam(model.parameters(),lr=learning_rate)\n",
        "\n",
        "#This is defined to print how many steps are remaining when training\n",
        "total_step=len(train_loader)"
      ],
      "metadata": {
        "id": "wUEdLWaa9hHO"
      },
      "execution_count": 48,
      "outputs": []
    },
    {
      "cell_type": "markdown",
      "source": [
        "##Training"
      ],
      "metadata": {
        "id": "qxsw1STrAe6M"
      }
    },
    {
      "cell_type": "code",
      "source": [
        "total_step=len(train_loader)\n",
        "\n",
        "for epoch in range(num_epochs):\n",
        "  for i,(images,labels) in enumerate(train_loader):\n",
        "    images=images.to(device)\n",
        "    labels=labels.to(device)\n",
        "\n",
        "    #Forwrad pass\n",
        "\n",
        "    outputs=model(images)\n",
        "    loss=cost(outputs,labels)\n",
        "\n",
        "\n",
        "    #Backward pass\n",
        "    optimizer.zero_grad()\n",
        "    loss.backward()\n",
        "    optimizer.step()\n",
        "\n",
        "    if(i+1)%400==0:\n",
        "      print(\"Epoch [{}/{}], Step [{}/{}],Loss:{:.4f}\".format(epoch+1,\n",
        "                                                             num_epochs,i+1,total_step,loss.item()))"
      ],
      "metadata": {
        "colab": {
          "base_uri": "https://localhost:8080/"
        },
        "id": "ROTWTZQy-HIg",
        "outputId": "c3abc1cb-3045-4ed9-b550-cb77247ad6ea"
      },
      "execution_count": 49,
      "outputs": [
        {
          "output_type": "stream",
          "name": "stdout",
          "text": [
            "Epoch [1/10], Step [400/938],Loss:0.1368\n",
            "Epoch [1/10], Step [800/938],Loss:0.0566\n",
            "Epoch [2/10], Step [400/938],Loss:0.0644\n",
            "Epoch [2/10], Step [800/938],Loss:0.1696\n",
            "Epoch [3/10], Step [400/938],Loss:0.0515\n",
            "Epoch [3/10], Step [800/938],Loss:0.0336\n",
            "Epoch [4/10], Step [400/938],Loss:0.0072\n",
            "Epoch [4/10], Step [800/938],Loss:0.0528\n",
            "Epoch [5/10], Step [400/938],Loss:0.0212\n",
            "Epoch [5/10], Step [800/938],Loss:0.0044\n",
            "Epoch [6/10], Step [400/938],Loss:0.0420\n",
            "Epoch [6/10], Step [800/938],Loss:0.0237\n",
            "Epoch [7/10], Step [400/938],Loss:0.0037\n",
            "Epoch [7/10], Step [800/938],Loss:0.0190\n",
            "Epoch [8/10], Step [400/938],Loss:0.0009\n",
            "Epoch [8/10], Step [800/938],Loss:0.0023\n",
            "Epoch [9/10], Step [400/938],Loss:0.0018\n",
            "Epoch [9/10], Step [800/938],Loss:0.0012\n",
            "Epoch [10/10], Step [400/938],Loss:0.0039\n",
            "Epoch [10/10], Step [800/938],Loss:0.0296\n"
          ]
        }
      ]
    },
    {
      "cell_type": "markdown",
      "source": [
        "##Testing"
      ],
      "metadata": {
        "id": "aVMcc6XqFeZZ"
      }
    },
    {
      "cell_type": "code",
      "source": [
        "#Test the model\n",
        "#In test phase,we don't need to compute gradients(for memory efficiency)\n",
        "\n",
        "with torch.no_grad():\n",
        "  correct=0\n",
        "  total=0\n",
        "\n",
        "  for images,labels in test_loader:\n",
        "    images=images.to(device)\n",
        "    labels=labels.to(device)\n",
        "    outputs=model(images)\n",
        "    _,predicted=torch.max(outputs.data,1)\n",
        "    total+=labels.size(0)\n",
        "    correct+=(predicted==labels).sum().item()\n",
        "\n",
        "\n",
        "  print('Accuracy of the network on the 10000 test images:.{}%'.format(100*correct/total))"
      ],
      "metadata": {
        "colab": {
          "base_uri": "https://localhost:8080/"
        },
        "id": "vYmb4tikBmym",
        "outputId": "e3a6f30b-31e1-48be-a863-9df9bd9fc1d4"
      },
      "execution_count": 50,
      "outputs": [
        {
          "output_type": "stream",
          "name": "stdout",
          "text": [
            "Accuracy of the network on the 10000 test images:.99.12%\n"
          ]
        }
      ]
    },
    {
      "cell_type": "code",
      "source": [],
      "metadata": {
        "id": "tYEC5MPFGh-H"
      },
      "execution_count": null,
      "outputs": []
    }
  ]
}